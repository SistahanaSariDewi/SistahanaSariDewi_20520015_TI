{
  "cells": [
    {
      "cell_type": "code",
      "execution_count": null,
      "metadata": {
        "id": "qj-qzRn1zco0"
      },
      "outputs": [],
      "source": [
        "# Latihan Training set dan Test set\n",
        "from sklearn.model_selection import train_test_split\n",
        "\n",
        "X_data = range(20)\n",
        "y_data = range(20)"
      ]
    },
    {
      "cell_type": "code",
      "execution_count": null,
      "metadata": {
        "colab": {
          "base_uri": "https://localhost:8080/"
        },
        "id": "OUlLmGhE3iB_",
        "outputId": "fd520bae-4730-400c-8e3e-7035d1a3e9e0"
      },
      "outputs": [
        {
          "name": "stdout",
          "output_type": "stream",
          "text": [
            "random_state ditentukan\n",
            "[0, 17, 15, 1, 8, 5]\n",
            "[0, 17, 15, 1, 8, 5]\n",
            "[0, 17, 15, 1, 8, 5]\n",
            "random_state tidak ditentukan\n",
            "[7, 3, 10, 8, 19, 1]\n",
            "[10, 15, 9, 12, 11, 8]\n",
            "[5, 12, 11, 4, 3, 1]\n"
          ]
        }
      ],
      "source": [
        "print(\"random_state ditentukan\")\n",
        "for i in range(3):\n",
        "    X_train, X_test, y_train, y_test = train_test_split(X_data, y_data, test_size = 0.3, random_state = 42)\n",
        "    print(y_test)\n",
        "\n",
        "print(\"random_state tidak ditentukan\")\n",
        "for i in range(3):\n",
        "    X_train, X_test, y_train, y_test = train_test_split(X_data, y_data, test_size = 0.3, random_state = None)\n",
        "    print(y_test)"
      ]
    },
    {
      "cell_type": "code",
      "execution_count": null,
      "metadata": {
        "id": "tAchfk8U4FPe"
      },
      "outputs": [],
      "source": [
        "# Latihan SKLearn Train Test Split Coding\n",
        "import sklearn\n",
        "from sklearn import datasets"
      ]
    },
    {
      "cell_type": "code",
      "execution_count": null,
      "metadata": {
        "id": "KeEE8vAW4QL-"
      },
      "outputs": [],
      "source": [
        "# load iris dataset\n",
        "iris = datasets.load_iris()"
      ]
    },
    {
      "cell_type": "code",
      "execution_count": null,
      "metadata": {
        "colab": {
          "background_save": true
        },
        "id": "dq2mGy5H4Yb_"
      },
      "outputs": [],
      "source": [
        "# pisahkan atribut dan label pada iris dataset\n",
        "x = iris.data\n",
        "y = iris.target"
      ]
    }
  ],
  "metadata": {
    "colab": {
      "provenance": []
    },
    "kernelspec": {
      "display_name": "Python 3",
      "name": "python3"
    },
    "language_info": {
      "name": "python"
    }
  },
  "nbformat": 4,
  "nbformat_minor": 0
}